{
 "cells": [
  {
   "cell_type": "code",
   "execution_count": 3,
   "metadata": {
    "collapsed": true
   },
   "outputs": [],
   "source": [
    "import re\n",
    "import os\n",
    "from csv import DictReader, DictWriter\n",
    "\n",
    "\n",
    "class Combinator:\n",
    "    \"\"\" bla\n",
    "    \"\"\"\n",
    "    def __init__(self, filepath, filepath_out):\n",
    "        self.dir = os.path.dirname(filepath)\n",
    "        self.filepath_out = filepath_out\n",
    "\n",
    "    def combine(self, regex, folder_parameter, file_inc_parameter):\n",
    "        output_list = []\n",
    "        if not os.path.exists(self.dir):\n",
    "            raise FileNotFoundError()\n",
    "        for root, dirs, files in os.walk(self.dir, topdown=True):\n",
    "            dirs.sort()\n",
    "            files.sort()\n",
    "            file_counter = 1\n",
    "            for file_ in files:\n",
    "                fullpath = root + '/' + file_\n",
    "                if not fullpath[-3:] == 'csv':\n",
    "                    continue\n",
    "                reres = re.search(regex, fullpath).group(0)\n",
    "                with open(fullpath, 'r') as file_:\n",
    "                    reader = DictReader(file_)\n",
    "                    for row in reader:\n",
    "                        # Replace commas with points in all values\n",
    "                        row = dict(map(lambda k: (k[0], str(k[1]).replace(',', '.')), row.items()))\n",
    "                        output_dict = row\n",
    "                        output_dict.update({folder_parameter:reres, file_inc_parameter: file_counter})\n",
    "                        output_list.append(output_dict)\n",
    "                file_counter += 1\n",
    "        with open(self.filepath_out, 'w', newline='') as csvfile:\n",
    "            dictWriter = DictWriter(csvfile, output_list[0].keys())\n",
    "            dictWriter.writeheader()\n",
    "            for dict_ in output_list:\n",
    "                dictWriter.writerow(dict_)\n"
   ]
  }
 ],
 "metadata": {
  "kernelspec": {
   "display_name": "Python 3",
   "language": "python",
   "name": "python3"
  },
  "language_info": {
   "codemirror_mode": {
    "name": "ipython",
    "version": 3
   },
   "file_extension": ".py",
   "mimetype": "text/x-python",
   "name": "python",
   "nbconvert_exporter": "python",
   "pygments_lexer": "ipython3",
   "version": "3.6.1"
  }
 },
 "nbformat": 4,
 "nbformat_minor": 2
}
