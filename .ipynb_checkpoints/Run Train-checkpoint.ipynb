{
 "cells": [
  {
   "cell_type": "code",
   "execution_count": 229,
   "metadata": {},
   "outputs": [
    {
     "name": "stdout",
     "output_type": "stream",
     "text": [
      "Combining data finished, persons added: [ 8  9 10]\n",
      "Cleaning finished, persons cleaned: [ 8  9 10]\n"
     ]
    },
    {
     "name": "stderr",
     "output_type": "stream",
     "text": [
      "/opt/jupyterhub/anaconda/lib/python3.6/site-packages/IPython/core/interactiveshell.py:2881: DtypeWarning: Columns (15) have mixed types. Specify dtype option on import or set low_memory=False.\n",
      "  exec(code_obj, self.user_global_ns, self.user_ns)\n"
     ]
    },
    {
     "name": "stdout",
     "output_type": "stream",
     "text": [
      "Cutting frames finished, person cut andf sided: [ 8  9 10]\n",
      "Rotating data finished, person rotated: [ 8  9 10]\n",
      "Calculating angles finished, arcs calculated for: [ 8  9 10]\n"
     ]
    }
   ],
   "source": [
    "%run 'Code Train.ipynb'\n",
    "\n",
    "run()"
   ]
  },
  {
   "cell_type": "code",
   "execution_count": 178,
   "metadata": {},
   "outputs": [
    {
     "name": "stdout",
     "output_type": "stream",
     "text": [
      "Combining data finished, persons added: [1 2 3 4 5 6 7]\n"
     ]
    }
   ],
   "source": [
    "current_combined = try_read_csv(OUTPUT_FOLDER + COMBINED_DATA_FILE)\n",
    "combined, newly_added = combine_data(INPUT_FOLDER, current_combined)\n",
    "if(len(combined) > len(current_combined)):\n",
    "    combined.to_csv(OUTPUT_FOLDER + COMBINED_DATA_FILE)"
   ]
  },
  {
   "cell_type": "code",
   "execution_count": 179,
   "metadata": {},
   "outputs": [
    {
     "name": "stdout",
     "output_type": "stream",
     "text": [
      "Cleaning finished, persons cleaned: [1 2 3 4 5 6 7]\n"
     ]
    }
   ],
   "source": [
    "if not newly_added.empty:\n",
    "    current_cleaned = try_read_csv(OUTPUT_FOLDER + CLEANED_DATA_FILE)\n",
    "    new_cleaned = clean_data(newly_added)\n",
    "    cleaned = append_avoiding_duplicating(current_cleaned, new_cleaned)\n",
    "    cleaned.to_csv(OUTPUT_FOLDER + CLEANED_DATA_FILE)"
   ]
  },
  {
   "cell_type": "code",
   "execution_count": 191,
   "metadata": {},
   "outputs": [
    {
     "name": "stdout",
     "output_type": "stream",
     "text": [
      "Cutting frames finished\n"
     ]
    },
    {
     "name": "stderr",
     "output_type": "stream",
     "text": [
      "/opt/jupyterhub/anaconda/lib/python3.6/site-packages/IPython/core/interactiveshell.py:2821: DtypeWarning: Columns (15) have mixed types. Specify dtype option on import or set low_memory=False.\n",
      "  if self.run_code(code, result):\n"
     ]
    }
   ],
   "source": [
    "cleaned_data = try_read_csv(OUTPUT_FOLDER + CLEANED_DATA_FILE, decimal=',')\n",
    "\n",
    "if not cleaned_data.empty:\n",
    "    current_cut_sided = try_read_csv(OUTPUT_FOLDER + CUT_SIDED_DATA_FILE, decimal=',')\n",
    "    new_cleaned_data = get_dataframe_delta(current_cut_sided, cleaned_data)\n",
    "    new_cut_sided = cut_frames_add_moving_sides(new_cleaned_data)\n",
    "    if not new_cut_sided.empty:\n",
    "        cut_sided = append_avoiding_duplicating(current_cut_sided, new_cut_sided)\n",
    "        cut_sided.to_csv(OUTPUT_FOLDER + CUT_SIDED_DATA_FILE)\n",
    "    else:\n",
    "        cut_sided = current_cut_sided"
   ]
  },
  {
   "cell_type": "code",
   "execution_count": 209,
   "metadata": {},
   "outputs": [
    {
     "name": "stderr",
     "output_type": "stream",
     "text": [
      "/opt/jupyterhub/anaconda/lib/python3.6/site-packages/IPython/core/interactiveshell.py:2821: DtypeWarning: Columns (15) have mixed types. Specify dtype option on import or set low_memory=False.\n",
      "  if self.run_code(code, result):\n"
     ]
    },
    {
     "name": "stdout",
     "output_type": "stream",
     "text": [
      "Rotating data finished, no new persons detected\n"
     ]
    }
   ],
   "source": [
    "cut_sided_data = try_read_csv(OUTPUT_FOLDER + CUT_SIDED_DATA_FILE)\n",
    "\n",
    "if not cut_sided_data.empty:\n",
    "    current_rotated = try_read_csv(OUTPUT_FOLDER + ROTATED_DATA_FILE)\n",
    "    new_cut_sided_data = get_dataframe_delta(current_rotated, cut_sided_data)\n",
    "    new_rotated = rotate_data(new_cut_sided_data)\n",
    "    if not new_rotated.empty:\n",
    "        rotated = append_avoiding_duplicating(current_rotated, new_rotated)\n",
    "        rotated.to_csv(OUTPUT_FOLDER + ROTATED_DATA_FILE)\n",
    "    else:\n",
    "        rotated = current_rotated"
   ]
  },
  {
   "cell_type": "code",
   "execution_count": 224,
   "metadata": {},
   "outputs": [
    {
     "name": "stdout",
     "output_type": "stream",
     "text": [
      "calculating angles finished\n"
     ]
    },
    {
     "name": "stderr",
     "output_type": "stream",
     "text": [
      "/opt/jupyterhub/anaconda/lib/python3.6/site-packages/IPython/core/interactiveshell.py:2821: DtypeWarning: Columns (15) have mixed types. Specify dtype option on import or set low_memory=False.\n",
      "  if self.run_code(code, result):\n"
     ]
    }
   ],
   "source": [
    "rotated_data = try_read_csv(OUTPUT_FOLDER + ROTATED_DATA_FILE)\n",
    "\n",
    "if not rotated_data.empty:\n",
    "    current_arcs = try_read_csv(OUTPUT_FOLDER + ARCS_CALCULATED_FILE)\n",
    "    new_rotated_data = get_dataframe_delta(current_arcs, rotated_data)\n",
    "    new_arcs = calculate_angles(new_rotated_data)\n",
    "    if not new_arcs.empty:\n",
    "        arcs = append_avoiding_duplicating(current_arcs, new_arcs)\n",
    "        arcs.to_csv(OUTPUT_FOLDER + ARCS_CALCULATED_FILE)\n",
    "    else:\n",
    "        arcs = current_arcs"
   ]
  },
  {
   "cell_type": "code",
   "execution_count": null,
   "metadata": {},
   "outputs": [],
   "source": []
  },
  {
   "cell_type": "code",
   "execution_count": null,
   "metadata": {},
   "outputs": [],
   "source": [
    "combined_test = pd.read_csv(OUTPUT_FOLDER + COMBINED_DATA_FILE)\n",
    "cleaned_test = pd.read_csv(OUTPUT_FOLDER + CLEANED_DATA_FILE)\n",
    "cut_sided_test = pd.read_csv(OUTPUT_FOLDER + CUT_SIDED_DATA_FILE)\n",
    "rotated_test = pd.read_csv(OUTPUT_FOLDER + ROTATED_DATA_FILE)\n",
    "arcs_test = pd.read_csv(OUTPUT_FOLDER + ARCS_CALCULATED_FILE)\n",
    "\n",
    "print(len(combined_test))\n",
    "print(combined_test.pNum.unique())\n",
    "\n",
    "print(len(cleaned_test))\n",
    "print(cleaned_test.pNum.unique())\n",
    "\n",
    "print(len(cut_sided_test))\n",
    "print(cut_sided_test.pNum.unique())\n",
    "\n",
    "print(len(rotated_test))\n",
    "print(rotated_test.pNum.unique())\n",
    "\n",
    "print(len(arcs_test))\n",
    "print(arcs_test.pNum.unique())"
   ]
  }
 ],
 "metadata": {
  "kernelspec": {
   "display_name": "Python 3",
   "language": "python",
   "name": "python3"
  },
  "language_info": {
   "codemirror_mode": {
    "name": "ipython",
    "version": 3
   },
   "file_extension": ".py",
   "mimetype": "text/x-python",
   "name": "python",
   "nbconvert_exporter": "python",
   "pygments_lexer": "ipython3",
   "version": "3.6.1"
  }
 },
 "nbformat": 4,
 "nbformat_minor": 2
}
