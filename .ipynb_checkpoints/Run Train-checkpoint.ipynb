{
 "cells": [
  {
   "cell_type": "code",
   "execution_count": 183,
   "metadata": {},
   "outputs": [],
   "source": [
    "%run 'Code Train.ipynb'"
   ]
  },
  {
   "cell_type": "code",
   "execution_count": 178,
   "metadata": {},
   "outputs": [
    {
     "name": "stdout",
     "output_type": "stream",
     "text": [
      "Combining data finished, persons added: [1 2 3 4 5 6 7]\n"
     ]
    }
   ],
   "source": [
    "current_combined = try_read_csv(OUTPUT_FOLDER + COMBINED_DATA_FILE)\n",
    "combined, newly_added = combine_data(INPUT_FOLDER, current_combined)\n",
    "if(len(combined) > len(current_combined)):\n",
    "    combined.to_csv(OUTPUT_FOLDER + COMBINED_DATA_FILE)"
   ]
  },
  {
   "cell_type": "code",
   "execution_count": 179,
   "metadata": {},
   "outputs": [
    {
     "name": "stdout",
     "output_type": "stream",
     "text": [
      "Cleaning finished, persons cleaned: [1 2 3 4 5 6 7]\n"
     ]
    }
   ],
   "source": [
    "if not newly_added.empty:\n",
    "    current_cleaned = try_read_csv(OUTPUT_FOLDER + CLEANED_DATA_FILE)\n",
    "    new_cleaned = clean_data(newly_added)\n",
    "    cleaned = append_avoiding_duplicating(current_cleaned, new_cleaned)\n",
    "    cleaned.to_csv(OUTPUT_FOLDER + CLEANED_DATA_FILE)"
   ]
  },
  {
   "cell_type": "code",
   "execution_count": 189,
   "metadata": {},
   "outputs": [
    {
     "name": "stdout",
     "output_type": "stream",
     "text": [
      "Cutting frames finished\n"
     ]
    },
    {
     "name": "stderr",
     "output_type": "stream",
     "text": [
      "/opt/jupyterhub/anaconda/lib/python3.6/site-packages/IPython/core/interactiveshell.py:2821: DtypeWarning: Columns (15) have mixed types. Specify dtype option on import or set low_memory=False.\n",
      "  if self.run_code(code, result):\n"
     ]
    }
   ],
   "source": [
    "cleaned_data = try_read_csv(OUTPUT_FOLDER + CLEANED_DATA_FILE, decimal=',')\n",
    "\n",
    "if not cleaned_data.empty:\n",
    "    current_cut_sided = try_read_csv(OUTPUT_FOLDER + CUT_SIDED_DATA_FILE, decimal=',')\n",
    "    new_cleaned_data = get_dataframe_delta(current_cut_sided, cleaned_data)\n",
    "    new_cut_sided = cut_frames_add_moving_sides(new_cleaned_data)\n",
    "    if not new_cut_sided.empty:\n",
    "        cut_sided = append_avoiding_duplicating(current_cut_sided, new_cut_sided)\n",
    "        cut_sided.to_csv(OUTPUT_FOLDER + CUT_SIDED_DATA_FILE)\n",
    "    else:\n",
    "        cut_sided = current_cut_sided"
   ]
  },
  {
   "cell_type": "code",
   "execution_count": null,
   "metadata": {
    "collapsed": true
   },
   "outputs": [],
   "source": [
    "cut_data = try_read_csv(OUTPUT_FOLDER + CUT_SIDED_DATA_FILE)\n",
    "current_rotated = try_read_csv(OUTPUT_FOLDER + ROTATED_DATA_FILE)\n",
    "new_rotated = rotate_data(cleaned_data)"
   ]
  },
  {
   "cell_type": "code",
   "execution_count": null,
   "metadata": {
    "collapsed": true
   },
   "outputs": [],
   "source": [
    "current_arcs = try_read_csv(OUTPUT_FOLDER + ARCS_CALCULATED_FILE)"
   ]
  },
  {
   "cell_type": "code",
   "execution_count": 96,
   "metadata": {},
   "outputs": [
    {
     "name": "stdout",
     "output_type": "stream",
     "text": [
      "922825\n",
      "[67 68 69 70 71 72 73 74 75 76 77 78 79 80 81 82 83 84 85]\n",
      "[1 2 3 4]\n",
      "['frameNum' 'jointName' 'x' 'y' 'z' 'orX' 'orY' 'orZ' 'orW' 'time'\n",
      " 'trackingId' 'trackState' 'pNum' 'eNum']\n"
     ]
    }
   ],
   "source": [
    "print(len(newly_added))\n",
    "print(combined.pNum.unique())\n",
    "print(combined.eNum.unique())\n",
    "print(combined.columns.values)\n",
    "\n",
    "#print(newly_added)"
   ]
  },
  {
   "cell_type": "code",
   "execution_count": 125,
   "metadata": {},
   "outputs": [
    {
     "name": "stdout",
     "output_type": "stream",
     "text": [
      "1336900\n",
      "[67 68 69 70 71 72 73 74 75 76 77 78 79 80 81 82 83 84 85  1  2  3  4  5  6\n",
      "  7]\n"
     ]
    }
   ],
   "source": [
    "print(len(cleaned))\n",
    "print(cleaned.pNum.unique())"
   ]
  },
  {
   "cell_type": "code",
   "execution_count": 108,
   "metadata": {},
   "outputs": [
    {
     "name": "stdout",
     "output_type": "stream",
     "text": [
      "[67 68 69 70 71 72 73 74 75 76 77 78 79 80 81 82 83 84]\n"
     ]
    }
   ],
   "source": [
    "newly_added = newly_added[newly_added[\"pNum\"] != 85]\n",
    "print(newly_added.pNum.unique())"
   ]
  },
  {
   "cell_type": "code",
   "execution_count": 188,
   "metadata": {},
   "outputs": [
    {
     "name": "stdout",
     "output_type": "stream",
     "text": [
      "      frameNum      jointName         x         y         z       orX  \\\n",
      "0          733      SpineBase  0.385703 -0.280894  2.303048  0.007960   \n",
      "1          733       SpineMid  0.391797  0.030569  2.321457  0.007931   \n",
      "2          733           Neck  0.395201  0.331969  2.326467  0.003422   \n",
      "3          733           Head  0.407601  0.473992  2.323310  0.000000   \n",
      "4          733   ShoulderLeft  0.228997  0.221285  2.331009  0.779264   \n",
      "5          733      ElbowLeft  0.169492 -0.063021  2.343276  0.736900   \n",
      "6          733      WristLeft  0.128614 -0.272049  2.324973  0.860168   \n",
      "7          733       HandLeft  0.138438 -0.341842  2.326526  0.851892   \n",
      "8          733  ShoulderRight  0.555678  0.208734  2.288346  0.798430   \n",
      "9          733     ElbowRight  0.618152 -0.067171  2.285103  0.676393   \n",
      "10         733     WristRight  0.667876 -0.268657  2.229382  0.742559   \n",
      "11         733      HandRight  0.669981 -0.341441  2.229498  0.753983   \n",
      "12         733        HipLeft  0.307898 -0.276834  2.274985 -0.681952   \n",
      "13         733       KneeLeft  0.319939 -0.677551  2.299496 -0.661830   \n",
      "14         733      AnkleLeft  0.310910 -0.998511  2.281714 -0.661213   \n",
      "15         733       FootLeft  0.292997 -1.020942  2.143700  0.000000   \n",
      "16         733       HipRight  0.451174 -0.276048  2.257610  0.659806   \n",
      "17         733      KneeRight  0.462682 -0.653588  2.275147  0.748933   \n",
      "18         733     AnkleRight  0.451796 -0.991094  2.269228  0.546852   \n",
      "19         733      FootRight  0.497550 -1.064591  2.158214  0.000000   \n",
      "20         733  SpineShoulder  0.394764  0.257965  2.327588  0.005665   \n",
      "21         733    HandTipLeft  0.152586 -0.417183  2.317887  0.000000   \n",
      "22         733      ThumbLeft  0.104455 -0.343701  2.282150  0.000000   \n",
      "23         733   HandTipRight  0.668355 -0.420933  2.217299  0.000000   \n",
      "24         733     ThumbRight  0.698283 -0.333663  2.199650  0.000000   \n",
      "25         734      SpineBase  0.387282 -0.281406  2.304588  0.007177   \n",
      "26         734       SpineMid  0.392740  0.029956  2.322738  0.007047   \n",
      "27         734           Neck  0.395695  0.331412  2.327478  0.002757   \n",
      "28         734           Head  0.408440  0.473840  2.324060  0.000000   \n",
      "29         734   ShoulderLeft  0.229299  0.220876  2.330889  0.778924   \n",
      "...        ...            ...       ...       ...       ...       ...   \n",
      "9670       572  SpineShoulder  0.323935  0.422758  2.367632  0.012272   \n",
      "9671       572    HandTipLeft  0.065825 -0.336264  2.273890  0.000000   \n",
      "9672       572      ThumbLeft  0.007009 -0.242550  2.264621  0.000000   \n",
      "9673       572   HandTipRight  0.501537 -0.337060  2.181731  0.000000   \n",
      "9674       572     ThumbRight  0.554325 -0.239575  2.157182  0.000000   \n",
      "9675       573      SpineBase  0.301414 -0.145592  2.342771  0.020448   \n",
      "9676       573       SpineMid  0.316160  0.183766  2.361390  0.019734   \n",
      "9677       573           Neck  0.322506  0.497758  2.362419  0.008253   \n",
      "9678       573           Head  0.326628  0.654623  2.305516  0.000000   \n",
      "9679       573   ShoulderLeft  0.137049  0.391104  2.398679  0.756133   \n",
      "9680       573      ElbowLeft  0.090764  0.110988  2.412592  0.717431   \n",
      "9681       573      WristLeft  0.049461 -0.168871  2.307494 -0.625890   \n",
      "9682       573       HandLeft  0.059919 -0.244867  2.284128 -0.661048   \n",
      "9683       573  ShoulderRight  0.503518  0.381406  2.312549  0.769599   \n",
      "9684       573     ElbowRight  0.550309  0.103409  2.329299  0.833317   \n",
      "9685       573     WristRight  0.532196 -0.171585  2.201315  0.797811   \n",
      "9686       573      HandRight  0.515571 -0.247889  2.193496  0.826748   \n",
      "9687       573        HipLeft  0.213256 -0.141830  2.318238 -0.687894   \n",
      "9688       573       KneeLeft  0.183412 -0.615028  2.336653 -0.658387   \n",
      "9689       573      AnkleLeft  0.162505 -1.006887  2.331802 -0.559624   \n",
      "9690       573       FootLeft  0.126366 -1.091255  2.252261  0.000000   \n",
      "9691       573       HipRight  0.380250 -0.144798  2.296240  0.685347   \n",
      "9692       573      KneeRight  0.423615 -0.616640  2.290682  0.751464   \n",
      "9693       573     AnkleRight  0.443528 -1.008710  2.282793  0.779145   \n",
      "9694       573      FootRight  0.429884 -1.096005  2.198843  0.000000   \n",
      "9695       573  SpineShoulder  0.321488  0.420668  2.364715  0.010371   \n",
      "9696       573    HandTipLeft  0.054191 -0.330603  2.270305  0.000000   \n",
      "9697       573      ThumbLeft  0.001476 -0.249457  2.268294  0.000000   \n",
      "9698       573   HandTipRight  0.511275 -0.340076  2.177762  0.000000   \n",
      "9699       573     ThumbRight  0.560533 -0.245827  2.155923  0.000000   \n",
      "\n",
      "           orY       orZ       orW              time         trackingId  \\\n",
      "0     0.997677  0.030048 -0.060624  20:53:02.4966953  72057594037935192   \n",
      "1     0.997617  0.030056 -0.061604  20:53:02.4966953  72057594037935192   \n",
      "2     0.997991 -0.007370 -0.062832  20:53:02.4966953  72057594037935192   \n",
      "3     0.000000  0.000000  0.000000  20:53:02.4966953  72057594037935192   \n",
      "4    -0.626034 -0.027355 -0.009047  20:53:02.4966953  72057594037935192   \n",
      "5    -0.090501 -0.667786 -0.053384  20:53:02.4966953  72057594037935192   \n",
      "6    -0.061561 -0.499012 -0.085484  20:53:02.4966953  72057594037935192   \n",
      "7     0.053914 -0.518921  0.045769  20:53:02.4966953  72057594037935192   \n",
      "8     0.591130 -0.070480 -0.090039  20:53:02.4966953  72057594037935192   \n",
      "9     0.071393  0.728090 -0.085323  20:53:02.4966953  72057594037935192   \n",
      "10    0.002216  0.646094 -0.176534  20:53:02.4966953  72057594037935192   \n",
      "11    0.011426  0.656734 -0.008890  20:53:02.4966953  72057594037935192   \n",
      "12    0.710151 -0.102119  0.142120  20:53:02.4966953  72057594037935192   \n",
      "13    0.012945  0.748882 -0.031456  20:53:02.4966953  72057594037935192   \n",
      "14   -0.011452  0.749557  0.028831  20:53:02.4966953  72057594037935192   \n",
      "15    0.000000  0.000000  0.000000  20:53:02.4966953  72057594037935192   \n",
      "16    0.688239 -0.185215 -0.238074  20:53:02.4966953  72057594037935192   \n",
      "17    0.026770  0.662065  0.007298  20:53:02.4966953  72057594037935192   \n",
      "18   -0.016152  0.837028  0.008700  20:53:02.4966953  72057594037935192   \n",
      "19    0.000000  0.000000  0.000000  20:53:02.4966953  72057594037935192   \n",
      "20    0.997919  0.013858 -0.062722  20:53:02.4966953  72057594037935192   \n",
      "21    0.000000  0.000000  0.000000  20:53:02.4966953  72057594037935192   \n",
      "22    0.000000  0.000000  0.000000  20:53:02.4966953  72057594037935192   \n",
      "23    0.000000  0.000000  0.000000  20:53:02.4966953  72057594037935192   \n",
      "24    0.000000  0.000000  0.000000  20:53:02.4966953  72057594037935192   \n",
      "25    0.998098  0.029533 -0.053625  20:53:02.5296937  72057594037935192   \n",
      "26    0.997852  0.029565 -0.058025  20:53:02.5296937  72057594037935192   \n",
      "27    0.997997 -0.007870 -0.062715  20:53:02.5296937  72057594037935192   \n",
      "28    0.000000  0.000000  0.000000  20:53:02.5296937  72057594037935192   \n",
      "29   -0.626527 -0.024698 -0.011479  20:53:02.5296937  72057594037935192   \n",
      "...        ...       ...       ...               ...                ...   \n",
      "9670  0.992765  0.012865 -0.118747  21:12:07.1581917  72057594037938847   \n",
      "9671  0.000000  0.000000  0.000000  21:12:07.1581917  72057594037938847   \n",
      "9672  0.000000  0.000000  0.000000  21:12:07.1581917  72057594037938847   \n",
      "9673  0.000000  0.000000  0.000000  21:12:07.1581917  72057594037938847   \n",
      "9674  0.000000  0.000000  0.000000  21:12:07.1581917  72057594037938847   \n",
      "9675  0.997209  0.029613 -0.065418  21:12:07.1910977  72057594037938847   \n",
      "9676  0.995359  0.030093 -0.089254  21:12:07.1910977  72057594037938847   \n",
      "9677  0.993350 -0.014035 -0.113980  21:12:07.1910977  72057594037938847   \n",
      "9678  0.000000  0.000000  0.000000  21:12:07.1910977  72057594037938847   \n",
      "9679 -0.647698 -0.078235  0.051279  21:12:07.1910977  72057594037938847   \n",
      "9680 -0.075882 -0.691385 -0.039015  21:12:07.1910977  72057594037938847   \n",
      "9681 -0.092206  0.756266  0.166796  21:12:07.1910977  72057594037938847   \n",
      "9682 -0.153879  0.732703  0.049832  21:12:07.1910977  72057594037938847   \n",
      "9683  0.623700 -0.096063 -0.097403  21:12:07.1910977  72057594037938847   \n",
      "9684  0.085889  0.545692 -0.020656  21:12:07.1910977  72057594037938847   \n",
      "9685 -0.149253  0.562140 -0.158806  21:12:07.1910977  72057594037938847   \n",
      "9686 -0.116585  0.550088  0.017322  21:12:07.1910977  72057594037938847   \n",
      "9687  0.712623 -0.079138  0.112726  21:12:07.1910977  72057594037938847   \n",
      "9688  0.035342  0.751771  0.010881  21:12:07.1910977  72057594037938847   \n",
      "9689  0.009795  0.828295  0.025541  21:12:07.1910977  72057594037938847   \n",
      "9690  0.000000  0.000000  0.000000  21:12:07.1910977  72057594037938847   \n",
      "9691  0.677967 -0.161131 -0.211418  21:12:07.1910977  72057594037938847   \n",
      "9692  0.030589  0.658157 -0.034595  21:12:07.1910977  72057594037938847   \n",
      "9693  0.013476  0.626250 -0.023725  21:12:07.1910977  72057594037938847   \n",
      "9694  0.000000  0.000000  0.000000  21:12:07.1910977  72057594037938847   \n",
      "9695  0.993417  0.008249 -0.113785  21:12:07.1910977  72057594037938847   \n",
      "9696  0.000000  0.000000  0.000000  21:12:07.1910977  72057594037938847   \n",
      "9697  0.000000  0.000000  0.000000  21:12:07.1910977  72057594037938847   \n",
      "9698  0.000000  0.000000  0.000000  21:12:07.1910977  72057594037938847   \n",
      "9699  0.000000  0.000000  0.000000  21:12:07.1910977  72057594037938847   \n",
      "\n",
      "     trackState  pNum  eNum Side  \n",
      "0       Tracked     1     1  NaN  \n",
      "1       Tracked     1     1  NaN  \n",
      "2       Tracked     1     1  NaN  \n",
      "3       Tracked     1     1  NaN  \n",
      "4       Tracked     1     1  NaN  \n",
      "5       Tracked     1     1  NaN  \n",
      "6       Tracked     1     1  NaN  \n",
      "7       Tracked     1     1  NaN  \n",
      "8       Tracked     1     1  NaN  \n",
      "9       Tracked     1     1  NaN  \n",
      "10      Tracked     1     1  NaN  \n",
      "11      Tracked     1     1  NaN  \n",
      "12      Tracked     1     1  NaN  \n",
      "13      Tracked     1     1  NaN  \n",
      "14      Tracked     1     1  NaN  \n",
      "15      Tracked     1     1  NaN  \n",
      "16      Tracked     1     1  NaN  \n",
      "17      Tracked     1     1  NaN  \n",
      "18      Tracked     1     1  NaN  \n",
      "19      Tracked     1     1  NaN  \n",
      "20      Tracked     1     1  NaN  \n",
      "21      Tracked     1     1  NaN  \n",
      "22      Tracked     1     1  NaN  \n",
      "23      Tracked     1     1  NaN  \n",
      "24      Tracked     1     1  NaN  \n",
      "25      Tracked     1     1  NaN  \n",
      "26      Tracked     1     1  NaN  \n",
      "27      Tracked     1     1  NaN  \n",
      "28      Tracked     1     1  NaN  \n",
      "29      Tracked     1     1  NaN  \n",
      "...         ...   ...   ...  ...  \n",
      "9670    Tracked     7     3  NaN  \n",
      "9671    Tracked     7     3  NaN  \n",
      "9672    Tracked     7     3  NaN  \n",
      "9673    Tracked     7     3  NaN  \n",
      "9674    Tracked     7     3  NaN  \n",
      "9675    Tracked     7     3  NaN  \n",
      "9676    Tracked     7     3  NaN  \n",
      "9677    Tracked     7     3  NaN  \n",
      "9678    Tracked     7     3  NaN  \n",
      "9679    Tracked     7     3  NaN  \n",
      "9680    Tracked     7     3  NaN  \n",
      "9681    Tracked     7     3  NaN  \n",
      "9682    Tracked     7     3  NaN  \n",
      "9683    Tracked     7     3  NaN  \n",
      "9684    Tracked     7     3  NaN  \n",
      "9685    Tracked     7     3  NaN  \n",
      "9686    Tracked     7     3  NaN  \n",
      "9687    Tracked     7     3  NaN  \n",
      "9688    Tracked     7     3  NaN  \n",
      "9689    Tracked     7     3  NaN  \n",
      "9690    Tracked     7     3  NaN  \n",
      "9691    Tracked     7     3  NaN  \n",
      "9692    Tracked     7     3  NaN  \n",
      "9693    Tracked     7     3  NaN  \n",
      "9694    Tracked     7     3  NaN  \n",
      "9695    Tracked     7     3  NaN  \n",
      "9696    Tracked     7     3  NaN  \n",
      "9697    Tracked     7     3  NaN  \n",
      "9698    Tracked     7     3  NaN  \n",
      "9699    Tracked     7     3  NaN  \n",
      "\n",
      "[197225 rows x 15 columns]\n"
     ]
    }
   ],
   "source": [
    "print(cut_sided)"
   ]
  }
 ],
 "metadata": {
  "kernelspec": {
   "display_name": "Python 3",
   "language": "python",
   "name": "python3"
  },
  "language_info": {
   "codemirror_mode": {
    "name": "ipython",
    "version": 3
   },
   "file_extension": ".py",
   "mimetype": "text/x-python",
   "name": "python",
   "nbconvert_exporter": "python",
   "pygments_lexer": "ipython3",
   "version": "3.6.1"
  }
 },
 "nbformat": 4,
 "nbformat_minor": 2
}
