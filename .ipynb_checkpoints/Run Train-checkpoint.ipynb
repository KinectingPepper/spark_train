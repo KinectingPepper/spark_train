{
 "cells": [
  {
   "cell_type": "code",
   "execution_count": null,
   "metadata": {},
   "outputs": [],
   "source": [
    "%run 'Code Train.ipynb'"
   ]
  },
  {
   "cell_type": "code",
   "execution_count": 241,
   "metadata": {},
   "outputs": [
    {
     "name": "stdout",
     "output_type": "stream",
     "text": [
      "Combining data finished, persons added: [86 87 88 89 90 91 92 93 94 95]\n",
      "Cleaning finished, persons cleaned: [86 87 88 89 90 91 92 93 94 95]\n",
      "EXCEPTION:  Person 87 exercise 1\n",
      "EXCEPTION:  Person 87 exercise 2\n",
      "EXCEPTION:  Person 87 exercise 3\n",
      "EXCEPTION:  Person 88 exercise 1\n",
      "EXCEPTION:  Person 88 exercise 2\n",
      "EXCEPTION:  Person 88 exercise 3\n",
      "EXCEPTION:  Person 89 exercise 1\n",
      "EXCEPTION:  Person 89 exercise 2\n",
      "EXCEPTION:  Person 89 exercise 3\n",
      "EXCEPTION:  Person 90 exercise 1\n",
      "EXCEPTION:  Person 90 exercise 2\n",
      "EXCEPTION:  Person 90 exercise 3\n",
      "EXCEPTION:  Person 91 exercise 1\n",
      "EXCEPTION:  Person 91 exercise 2\n",
      "EXCEPTION:  Person 91 exercise 3\n",
      "EXCEPTION:  Person 92 exercise 1\n",
      "EXCEPTION:  Person 92 exercise 2\n",
      "EXCEPTION:  Person 92 exercise 3\n",
      "EXCEPTION:  Person 94 exercise 1\n",
      "EXCEPTION:  Person 94 exercise 2\n",
      "EXCEPTION:  Person 94 exercise 3\n",
      "EXCEPTION:  Person 95 exercise 1\n",
      "EXCEPTION:  Person 95 exercise 2\n",
      "EXCEPTION:  Person 95 exercise 3\n",
      "Cutting frames finished, no new persons detected\n"
     ]
    }
   ],
   "source": [
    "run()"
   ]
  },
  {
   "cell_type": "code",
   "execution_count": 233,
   "metadata": {},
   "outputs": [
    {
     "name": "stdout",
     "output_type": "stream",
     "text": [
      "Combining data finished, no new persons detected\n"
     ]
    }
   ],
   "source": [
    "current_combined = try_read_csv(OUTPUT_FOLDER + COMBINED_DATA_FILE)\n",
    "combined, newly_added = combine_data(INPUT_FOLDER, current_combined)\n",
    "if(len(combined) > len(current_combined)):\n",
    "    combined.to_csv(OUTPUT_FOLDER + COMBINED_DATA_FILE)"
   ]
  },
  {
   "cell_type": "code",
   "execution_count": 245,
   "metadata": {},
   "outputs": [],
   "source": [
    "if not newly_added.empty:\n",
    "    current_cleaned = try_read_csv(OUTPUT_FOLDER + CLEANED_DATA_FILE)\n",
    "    new_cleaned = clean_data(newly_added)\n",
    "    cleaned = append_avoiding_duplicating(current_cleaned, new_cleaned)\n",
    "    cleaned.to_csv(OUTPUT_FOLDER + CLEANED_DATA_FILE)"
   ]
  },
  {
   "cell_type": "code",
   "execution_count": 257,
   "metadata": {},
   "outputs": [
    {
     "name": "stdout",
     "output_type": "stream",
     "text": [
      "Cutting Person 87 exercise 1  \r",
      "111:49:06\n"
     ]
    },
    {
     "ename": "IndexError",
     "evalue": "string index out of range",
     "output_type": "error",
     "traceback": [
      "\u001b[0;31m---------------------------------------------------------------------------\u001b[0m",
      "\u001b[0;31mIndexError\u001b[0m                                Traceback (most recent call last)",
      "\u001b[0;32m<ipython-input-257-39b50656fb93>\u001b[0m in \u001b[0;36m<module>\u001b[0;34m()\u001b[0m\n\u001b[1;32m      4\u001b[0m     \u001b[0mcurrent_cut_sided\u001b[0m \u001b[0;34m=\u001b[0m \u001b[0mtry_read_csv\u001b[0m\u001b[0;34m(\u001b[0m\u001b[0mOUTPUT_FOLDER\u001b[0m \u001b[0;34m+\u001b[0m \u001b[0mCUT_SIDED_DATA_FILE\u001b[0m\u001b[0;34m,\u001b[0m \u001b[0mdecimal\u001b[0m\u001b[0;34m=\u001b[0m\u001b[0;34m','\u001b[0m\u001b[0;34m)\u001b[0m\u001b[0;34m\u001b[0m\u001b[0m\n\u001b[1;32m      5\u001b[0m     \u001b[0mnew_cleaned_data\u001b[0m \u001b[0;34m=\u001b[0m \u001b[0mget_dataframe_delta\u001b[0m\u001b[0;34m(\u001b[0m\u001b[0mcurrent_cut_sided\u001b[0m\u001b[0;34m,\u001b[0m \u001b[0mcleaned_data\u001b[0m\u001b[0;34m)\u001b[0m\u001b[0;34m\u001b[0m\u001b[0m\n\u001b[0;32m----> 6\u001b[0;31m     \u001b[0mnew_cut_sided\u001b[0m \u001b[0;34m=\u001b[0m \u001b[0mcut_frames_add_moving_sides\u001b[0m\u001b[0;34m(\u001b[0m\u001b[0mnew_cleaned_data\u001b[0m\u001b[0;34m)\u001b[0m\u001b[0;34m\u001b[0m\u001b[0m\n\u001b[0m\u001b[1;32m      7\u001b[0m     \u001b[0;32mif\u001b[0m \u001b[0;32mnot\u001b[0m \u001b[0mnew_cut_sided\u001b[0m\u001b[0;34m.\u001b[0m\u001b[0mempty\u001b[0m\u001b[0;34m:\u001b[0m\u001b[0;34m\u001b[0m\u001b[0m\n\u001b[1;32m      8\u001b[0m         \u001b[0mcut_sided\u001b[0m \u001b[0;34m=\u001b[0m \u001b[0mappend_avoiding_duplicating\u001b[0m\u001b[0;34m(\u001b[0m\u001b[0mcurrent_cut_sided\u001b[0m\u001b[0;34m,\u001b[0m \u001b[0mnew_cut_sided\u001b[0m\u001b[0;34m)\u001b[0m\u001b[0;34m\u001b[0m\u001b[0m\n",
      "\u001b[0;32m<ipython-input-256-44ae1d103044>\u001b[0m in \u001b[0;36mcut_frames_add_moving_sides\u001b[0;34m(dataToCut)\u001b[0m\n\u001b[1;32m    156\u001b[0m                 \u001b[0menum_\u001b[0m \u001b[0;34m=\u001b[0m \u001b[0mexercise\u001b[0m\u001b[0;34m.\u001b[0m\u001b[0miloc\u001b[0m\u001b[0;34m[\u001b[0m\u001b[0;36m0\u001b[0m\u001b[0;34m]\u001b[0m\u001b[0;34m.\u001b[0m\u001b[0meNum\u001b[0m\u001b[0;34m\u001b[0m\u001b[0m\n\u001b[1;32m    157\u001b[0m                 \u001b[0mexercise\u001b[0m \u001b[0;34m=\u001b[0m \u001b[0mexercise\u001b[0m\u001b[0;34m.\u001b[0m\u001b[0mreset_index\u001b[0m\u001b[0;34m(\u001b[0m\u001b[0mdrop\u001b[0m\u001b[0;34m=\u001b[0m\u001b[0;32mTrue\u001b[0m\u001b[0;34m)\u001b[0m\u001b[0;34m\u001b[0m\u001b[0m\n\u001b[0;32m--> 158\u001b[0;31m                 \u001b[0mcut_exercise\u001b[0m \u001b[0;34m=\u001b[0m \u001b[0mcleancsv\u001b[0m\u001b[0;34m(\u001b[0m\u001b[0mexercise\u001b[0m\u001b[0;34m,\u001b[0m \u001b[0menum_\u001b[0m\u001b[0;34m)\u001b[0m\u001b[0;34m\u001b[0m\u001b[0m\n\u001b[0m\u001b[1;32m    159\u001b[0m                 \u001b[0mcut_exercise\u001b[0m \u001b[0;34m=\u001b[0m \u001b[0mcut_exercise\u001b[0m\u001b[0;34m.\u001b[0m\u001b[0mreset_index\u001b[0m\u001b[0;34m(\u001b[0m\u001b[0mdrop\u001b[0m\u001b[0;34m=\u001b[0m\u001b[0;32mTrue\u001b[0m\u001b[0;34m)\u001b[0m\u001b[0;34m\u001b[0m\u001b[0m\n\u001b[1;32m    160\u001b[0m                 \u001b[0mcut_exercise\u001b[0m \u001b[0;34m=\u001b[0m \u001b[0mWrapperGetPart\u001b[0m\u001b[0;34m(\u001b[0m\u001b[0mcut_exercise\u001b[0m\u001b[0;34m,\u001b[0m \u001b[0menum_\u001b[0m\u001b[0;34m)\u001b[0m\u001b[0;34m\u001b[0m\u001b[0m\n",
      "\u001b[0;32m<ipython-input-256-baf10697463f>\u001b[0m in \u001b[0;36mcleancsv\u001b[0;34m(csvfile, oef, saveloc)\u001b[0m\n\u001b[1;32m     13\u001b[0m         \u001b[0mfile\u001b[0m\u001b[0;34m,\u001b[0m\u001b[0mT\u001b[0m\u001b[0;34m,\u001b[0m\u001b[0mperson\u001b[0m \u001b[0;34m=\u001b[0m \u001b[0mGetPerson\u001b[0m\u001b[0;34m(\u001b[0m\u001b[0mcsvfile\u001b[0m\u001b[0;34m,\u001b[0m\u001b[0;34m-\u001b[0m\u001b[0;36m1\u001b[0m\u001b[0;34m)\u001b[0m\u001b[0;34m\u001b[0m\u001b[0m\n\u001b[1;32m     14\u001b[0m     \u001b[0;32melif\u001b[0m\u001b[0;34m(\u001b[0m\u001b[0mtype\u001b[0m\u001b[0;34m(\u001b[0m\u001b[0mcsvfile\u001b[0m\u001b[0;34m)\u001b[0m \u001b[0;34m==\u001b[0m \u001b[0mtype\u001b[0m\u001b[0;34m(\u001b[0m\u001b[0mpd\u001b[0m\u001b[0;34m.\u001b[0m\u001b[0mDataFrame\u001b[0m\u001b[0;34m(\u001b[0m\u001b[0;34m)\u001b[0m\u001b[0;34m)\u001b[0m\u001b[0;34m)\u001b[0m\u001b[0;34m:\u001b[0m\u001b[0;34m\u001b[0m\u001b[0m\n\u001b[0;32m---> 15\u001b[0;31m         \u001b[0mstarttime\u001b[0m \u001b[0;34m=\u001b[0m \u001b[0mGetSeconds\u001b[0m\u001b[0;34m(\u001b[0m\u001b[0mcsvfile\u001b[0m\u001b[0;34m.\u001b[0m\u001b[0mtime\u001b[0m\u001b[0;34m[\u001b[0m\u001b[0;36m0\u001b[0m\u001b[0;34m]\u001b[0m\u001b[0;34m)\u001b[0m\u001b[0;34m\u001b[0m\u001b[0m\n\u001b[0m\u001b[1;32m     16\u001b[0m         \u001b[0mendtime\u001b[0m \u001b[0;34m=\u001b[0m \u001b[0mGetSeconds\u001b[0m\u001b[0;34m(\u001b[0m\u001b[0mcsvfile\u001b[0m\u001b[0;34m.\u001b[0m\u001b[0mtime\u001b[0m\u001b[0;34m[\u001b[0m\u001b[0mlen\u001b[0m\u001b[0;34m(\u001b[0m\u001b[0mcsvfile\u001b[0m\u001b[0;34m)\u001b[0m \u001b[0;34m-\u001b[0m \u001b[0;36m1\u001b[0m\u001b[0;34m]\u001b[0m\u001b[0;34m)\u001b[0m\u001b[0;34m\u001b[0m\u001b[0m\n\u001b[1;32m     17\u001b[0m         \u001b[0mT\u001b[0m \u001b[0;34m=\u001b[0m \u001b[0mendtime\u001b[0m \u001b[0;34m-\u001b[0m \u001b[0mstarttime\u001b[0m\u001b[0;34m\u001b[0m\u001b[0m\n",
      "\u001b[0;32m<ipython-input-256-42f271a7e7c3>\u001b[0m in \u001b[0;36mGetSeconds\u001b[0;34m(timestring)\u001b[0m\n\u001b[1;32m     78\u001b[0m     \u001b[0mminutes\u001b[0m\u001b[0;34m/=\u001b[0m\u001b[0;36m10\u001b[0m\u001b[0;34m\u001b[0m\u001b[0m\n\u001b[1;32m     79\u001b[0m     \u001b[0mj\u001b[0m\u001b[0;34m+=\u001b[0m\u001b[0;36m1\u001b[0m\u001b[0;34m\u001b[0m\u001b[0m\n\u001b[0;32m---> 80\u001b[0;31m     \u001b[0;32mwhile\u001b[0m \u001b[0mtimestring\u001b[0m\u001b[0;34m[\u001b[0m\u001b[0mj\u001b[0m\u001b[0;34m]\u001b[0m \u001b[0;34m!=\u001b[0m \u001b[0;34m'.'\u001b[0m\u001b[0;34m:\u001b[0m\u001b[0;34m\u001b[0m\u001b[0m\n\u001b[0m\u001b[1;32m     81\u001b[0m         \u001b[0mseconds\u001b[0m\u001b[0;34m+=\u001b[0m\u001b[0mint\u001b[0m\u001b[0;34m(\u001b[0m\u001b[0mtimestring\u001b[0m\u001b[0;34m[\u001b[0m\u001b[0mj\u001b[0m\u001b[0;34m]\u001b[0m\u001b[0;34m)\u001b[0m\u001b[0;34m\u001b[0m\u001b[0m\n\u001b[1;32m     82\u001b[0m         \u001b[0mseconds\u001b[0m\u001b[0;34m*=\u001b[0m\u001b[0;36m10\u001b[0m\u001b[0;34m\u001b[0m\u001b[0m\n",
      "\u001b[0;31mIndexError\u001b[0m: string index out of range"
     ]
    }
   ],
   "source": [
    "cleaned_data = try_read_csv(OUTPUT_FOLDER + CLEANED_DATA_FILE, decimal=',')\n",
    "\n",
    "if not cleaned_data.empty:\n",
    "    current_cut_sided = try_read_csv(OUTPUT_FOLDER + CUT_SIDED_DATA_FILE, decimal=',')\n",
    "    new_cleaned_data = get_dataframe_delta(current_cut_sided, cleaned_data)\n",
    "    new_cut_sided = cut_frames_add_moving_sides(new_cleaned_data)\n",
    "    if not new_cut_sided.empty:\n",
    "        cut_sided = append_avoiding_duplicating(current_cut_sided, new_cut_sided)\n",
    "        cut_sided.to_csv(OUTPUT_FOLDER + CUT_SIDED_DATA_FILE)\n",
    "    else:\n",
    "        cut_sided = current_cut_sided"
   ]
  },
  {
   "cell_type": "code",
   "execution_count": 236,
   "metadata": {},
   "outputs": [],
   "source": [
    "cut_sided_data = try_read_csv(OUTPUT_FOLDER + CUT_SIDED_DATA_FILE)\n",
    "\n",
    "if not cut_sided_data.empty:\n",
    "    current_rotated = try_read_csv(OUTPUT_FOLDER + ROTATED_DATA_FILE)\n",
    "    new_cut_sided_data = get_dataframe_delta(current_rotated, cut_sided_data)\n",
    "    new_rotated = rotate_data(new_cut_sided_data)\n",
    "    if not new_rotated.empty:\n",
    "        rotated = append_avoiding_duplicating(current_rotated, new_rotated)\n",
    "        rotated.to_csv(OUTPUT_FOLDER + ROTATED_DATA_FILE)\n",
    "    else:\n",
    "        rotated = current_rotated"
   ]
  },
  {
   "cell_type": "code",
   "execution_count": 237,
   "metadata": {},
   "outputs": [],
   "source": [
    "rotated_data = try_read_csv(OUTPUT_FOLDER + ROTATED_DATA_FILE)\n",
    "\n",
    "if not rotated_data.empty:\n",
    "    current_arcs = try_read_csv(OUTPUT_FOLDER + ARCS_CALCULATED_FILE)\n",
    "    new_rotated_data = get_dataframe_delta(current_arcs, rotated_data)\n",
    "    new_arcs = calculate_angles(new_rotated_data)\n",
    "    if not new_arcs.empty:\n",
    "        arcs = append_avoiding_duplicating(current_arcs, new_arcs)\n",
    "        arcs.to_csv(OUTPUT_FOLDER + ARCS_CALCULATED_FILE)\n",
    "    else:\n",
    "        arcs = current_arcs"
   ]
  },
  {
   "cell_type": "code",
   "execution_count": null,
   "metadata": {},
   "outputs": [],
   "source": []
  },
  {
   "cell_type": "code",
   "execution_count": null,
   "metadata": {},
   "outputs": [],
   "source": [
    "combined_test = pd.read_csv(OUTPUT_FOLDER + COMBINED_DATA_FILE)\n",
    "cleaned_test = pd.read_csv(OUTPUT_FOLDER + CLEANED_DATA_FILE)\n",
    "cut_sided_test = pd.read_csv(OUTPUT_FOLDER + CUT_SIDED_DATA_FILE)\n",
    "rotated_test = pd.read_csv(OUTPUT_FOLDER + ROTATED_DATA_FILE)\n",
    "arcs_test = pd.read_csv(OUTPUT_FOLDER + ARCS_CALCULATED_FILE)\n",
    "\n",
    "print(len(combined_test))\n",
    "print(combined_test.pNum.unique())\n",
    "\n",
    "print(len(cleaned_test))\n",
    "print(cleaned_test.pNum.unique())\n",
    "\n",
    "print(len(cut_sided_test))\n",
    "print(cut_sided_test.pNum.unique())\n",
    "\n",
    "print(len(rotated_test))\n",
    "print(rotated_test.pNum.unique())\n",
    "\n",
    "print(len(arcs_test))\n",
    "print(arcs_test.pNum.unique())"
   ]
  }
 ],
 "metadata": {
  "kernelspec": {
   "display_name": "Python 3",
   "language": "python",
   "name": "python3"
  },
  "language_info": {
   "codemirror_mode": {
    "name": "ipython",
    "version": 3
   },
   "file_extension": ".py",
   "mimetype": "text/x-python",
   "name": "python",
   "nbconvert_exporter": "python",
   "pygments_lexer": "ipython3",
   "version": "3.6.1"
  }
 },
 "nbformat": 4,
 "nbformat_minor": 2
}
