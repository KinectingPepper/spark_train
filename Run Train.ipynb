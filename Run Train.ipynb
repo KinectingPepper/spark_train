{
 "cells": [
  {
   "cell_type": "code",
   "execution_count": 125,
   "metadata": {},
   "outputs": [],
   "source": [
    "%run 'Code Train.ipynb'\n",
    "\n",
    "INPUT_FOLDER = r'new_recording/'\n",
    "OUTPUT_FOLDER = r\"new_data/\"\n",
    "\n",
    "COMBINED_DATA_FILE = r'combined.csv'\n",
    "CLEANED_DATA_FILE = r'cleaned.csv'\n",
    "CUT_SIDED_DATA_FILE = r'cut_sided.csv'\n",
    "ROTATED_DATA_FILE = r'rotated.csv'\n",
    "ARCS_CALCULATED_FILE = r'arcs_calculated.csv'"
   ]
  },
  {
   "cell_type": "code",
   "execution_count": 129,
   "metadata": {},
   "outputs": [
    {
     "name": "stdout",
     "output_type": "stream",
     "text": [
      "combining data finished\n"
     ]
    }
   ],
   "source": [
    "current_combined = try_read_csv(OUTPUT_FOLDER + COMBINED_DATA_FILE)\n",
    "combined = combine_data(INPUT_FOLDER, current_combined)\n",
    "combined.to_csv(OUTPUT_FOLDER + COMBINED_DATA_FILE)"
   ]
  },
  {
   "cell_type": "code",
   "execution_count": 21,
   "metadata": {},
   "outputs": [
    {
     "name": "stdout",
     "output_type": "stream",
     "text": [
      "922825\n",
      "<class 'pandas.core.frame.DataFrame'>\n",
      "922825\n"
     ]
    }
   ],
   "source": [
    "current_cleaned = try_read_csv(OUTPUT_FOLDER + CLEANED_DATA_FILE)\n",
    "new_cleaned = clean_data(combined_data)"
   ]
  },
  {
   "cell_type": "code",
   "execution_count": null,
   "metadata": {},
   "outputs": [],
   "source": [
    "current_cut_sided = try_read_csv(OUTPUT_FOLDER + CUT_SIDED_DATA_FILE)\n",
    "new_cut_sided = cut_frames_add_moving_sides(cleaned_data)"
   ]
  },
  {
   "cell_type": "code",
   "execution_count": null,
   "metadata": {},
   "outputs": [],
   "source": [
    "current_rotated = try_read_csv(OUTPUT_FOLDER + ROTATED_DATA_FILE)\n",
    "new_rotated = rotate_data(cleaned_data)"
   ]
  },
  {
   "cell_type": "code",
   "execution_count": null,
   "metadata": {
    "collapsed": true
   },
   "outputs": [],
   "source": [
    "current_arcs = try_read_csv(OUTPUT_FOLDER + ARCS_CALCULATED_FILE)"
   ]
  },
  {
   "cell_type": "code",
   "execution_count": 128,
   "metadata": {},
   "outputs": [
    {
     "name": "stdout",
     "output_type": "stream",
     "text": [
      "922825\n",
      "[67 68 69 70 71 72 73 74 75 76 77 78 79 80 81 82 83 84 85]\n",
      "[1 2 3 4]\n",
      "['Unnamed: 0' 'eNum' 'frameNum' 'jointName' 'orW' 'orX' 'orY' 'orZ' 'pNum'\n",
      " 'time' 'trackState' 'trackingId' 'x' 'y' 'z']\n"
     ]
    }
   ],
   "source": [
    "print(len(combined))\n",
    "print(combined.pNum.unique())\n",
    "print(combined.eNum.unique())\n",
    "print(combined.columns.values)\n",
    "\n",
    "#print(combined)"
   ]
  },
  {
   "cell_type": "code",
   "execution_count": 126,
   "metadata": {},
   "outputs": [
    {
     "name": "stdout",
     "output_type": "stream",
     "text": [
      "[67 68 69 70 71 72 73 74 75 76 77 78 79 80 81 82 83 84]\n"
     ]
    }
   ],
   "source": [
    "current_combined = current_combined[current_combined[\"pNum\"] != 85]\n",
    "print(current_combined.pNum.unique())"
   ]
  },
  {
   "cell_type": "code",
   "execution_count": 29,
   "metadata": {},
   "outputs": [
    {
     "name": "stdout",
     "output_type": "stream",
     "text": [
      "<class 'pandas.core.frame.DataFrame'>\n"
     ]
    }
   ],
   "source": [
    "trytest = try_read_csv('test.csv')\n",
    "print(type(trytest))"
   ]
  }
 ],
 "metadata": {
  "kernelspec": {
   "display_name": "Python 3",
   "language": "python",
   "name": "python3"
  },
  "language_info": {
   "codemirror_mode": {
    "name": "ipython",
    "version": 3
   },
   "file_extension": ".py",
   "mimetype": "text/x-python",
   "name": "python",
   "nbconvert_exporter": "python",
   "pygments_lexer": "ipython3",
   "version": "3.6.1"
  }
 },
 "nbformat": 4,
 "nbformat_minor": 2
}
