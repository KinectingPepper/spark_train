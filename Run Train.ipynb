{
 "cells": [
  {
   "cell_type": "code",
   "execution_count": 218,
   "metadata": {},
   "outputs": [],
   "source": [
    "%run 'Code Train.ipynb'"
   ]
  },
  {
   "cell_type": "code",
   "execution_count": 178,
   "metadata": {},
   "outputs": [
    {
     "name": "stdout",
     "output_type": "stream",
     "text": [
      "Combining data finished, persons added: [1 2 3 4 5 6 7]\n"
     ]
    }
   ],
   "source": [
    "current_combined = try_read_csv(OUTPUT_FOLDER + COMBINED_DATA_FILE)\n",
    "combined, newly_added = combine_data(INPUT_FOLDER, current_combined)\n",
    "if(len(combined) > len(current_combined)):\n",
    "    combined.to_csv(OUTPUT_FOLDER + COMBINED_DATA_FILE)"
   ]
  },
  {
   "cell_type": "code",
   "execution_count": 179,
   "metadata": {},
   "outputs": [
    {
     "name": "stdout",
     "output_type": "stream",
     "text": [
      "Cleaning finished, persons cleaned: [1 2 3 4 5 6 7]\n"
     ]
    }
   ],
   "source": [
    "if not newly_added.empty:\n",
    "    current_cleaned = try_read_csv(OUTPUT_FOLDER + CLEANED_DATA_FILE)\n",
    "    new_cleaned = clean_data(newly_added)\n",
    "    cleaned = append_avoiding_duplicating(current_cleaned, new_cleaned)\n",
    "    cleaned.to_csv(OUTPUT_FOLDER + CLEANED_DATA_FILE)"
   ]
  },
  {
   "cell_type": "code",
   "execution_count": 191,
   "metadata": {},
   "outputs": [
    {
     "name": "stdout",
     "output_type": "stream",
     "text": [
      "Cutting frames finished\n"
     ]
    },
    {
     "name": "stderr",
     "output_type": "stream",
     "text": [
      "/opt/jupyterhub/anaconda/lib/python3.6/site-packages/IPython/core/interactiveshell.py:2821: DtypeWarning: Columns (15) have mixed types. Specify dtype option on import or set low_memory=False.\n",
      "  if self.run_code(code, result):\n"
     ]
    }
   ],
   "source": [
    "cleaned_data = try_read_csv(OUTPUT_FOLDER + CLEANED_DATA_FILE, decimal=',')\n",
    "\n",
    "if not cleaned_data.empty:\n",
    "    current_cut_sided = try_read_csv(OUTPUT_FOLDER + CUT_SIDED_DATA_FILE, decimal=',')\n",
    "    new_cleaned_data = get_dataframe_delta(current_cut_sided, cleaned_data)\n",
    "    new_cut_sided = cut_frames_add_moving_sides(new_cleaned_data)\n",
    "    if not new_cut_sided.empty:\n",
    "        cut_sided = append_avoiding_duplicating(current_cut_sided, new_cut_sided)\n",
    "        cut_sided.to_csv(OUTPUT_FOLDER + CUT_SIDED_DATA_FILE)\n",
    "    else:\n",
    "        cut_sided = current_cut_sided"
   ]
  },
  {
   "cell_type": "code",
   "execution_count": 209,
   "metadata": {},
   "outputs": [
    {
     "name": "stderr",
     "output_type": "stream",
     "text": [
      "/opt/jupyterhub/anaconda/lib/python3.6/site-packages/IPython/core/interactiveshell.py:2821: DtypeWarning: Columns (15) have mixed types. Specify dtype option on import or set low_memory=False.\n",
      "  if self.run_code(code, result):\n"
     ]
    },
    {
     "name": "stdout",
     "output_type": "stream",
     "text": [
      "Rotating data finished, no new persons detected\n"
     ]
    }
   ],
   "source": [
    "cut_sided_data = try_read_csv(OUTPUT_FOLDER + CUT_SIDED_DATA_FILE)\n",
    "\n",
    "if not cut_sided_data.empty:\n",
    "    current_rotated = try_read_csv(OUTPUT_FOLDER + ROTATED_DATA_FILE)\n",
    "    new_cut_sided_data = get_dataframe_delta(current_rotated, cut_sided_data)\n",
    "    new_rotated = rotate_data(new_cut_sided_data)\n",
    "    if not new_rotated.empty:\n",
    "        rotated = append_avoiding_duplicating(current_rotated, new_rotated)\n",
    "        rotated.to_csv(OUTPUT_FOLDER + ROTATED_DATA_FILE)\n",
    "    else:\n",
    "        rotated = current_rotated"
   ]
  },
  {
   "cell_type": "code",
   "execution_count": 219,
   "metadata": {},
   "outputs": [
    {
     "name": "stderr",
     "output_type": "stream",
     "text": [
      "/opt/jupyterhub/anaconda/lib/python3.6/site-packages/IPython/core/interactiveshell.py:2821: DtypeWarning: Columns (15) have mixed types. Specify dtype option on import or set low_memory=False.\n",
      "  if self.run_code(code, result):\n"
     ]
    },
    {
     "name": "stdout",
     "output_type": "stream",
     "text": [
      "all_arcs is Nonee for Person 1 exercise 1  \n",
      "APPENDED\n",
      "APPENDED\n",
      "APPENDEDing angle for Person 1 exercise 2  \n",
      "APPENDED\n",
      "APPENDED\n",
      "APPENDEDing angle for Person 1 exercise 3  \n",
      "APPENDED\n",
      "APPENDED\n",
      "APPENDEDing angle for Person 3 exercise 1  \n",
      "APPENDED\n",
      "APPENDED\n",
      "APPENDEDing angle for Person 3 exercise 2  \n",
      "APPENDED\n",
      "APPENDED\n",
      "APPENDEDing angle for Person 3 exercise 3  \n",
      "APPENDED\n",
      "APPENDED\n",
      "APPENDEDing angle for Person 4 exercise 1  \n",
      "APPENDED\n",
      "APPENDED\n",
      "APPENDEDing angle for Person 4 exercise 2  \n",
      "APPENDED\n",
      "APPENDED\n",
      "APPENDEDing angle for Person 4 exercise 3  \n",
      "APPENDED\n",
      "APPENDED\n",
      "APPENDEDing angle for Person 5 exercise 1  \n",
      "APPENDED\n",
      "APPENDED\n",
      "APPENDEDing angle for Person 5 exercise 2  \n",
      "APPENDED\n",
      "APPENDED\n",
      "APPENDEDing angle for Person 5 exercise 3  \n",
      "APPENDED\n",
      "APPENDED\n",
      "APPENDEDing angle for Person 6 exercise 1  \n",
      "APPENDED\n",
      "APPENDED\n",
      "APPENDEDing angle for Person 6 exercise 2  \n",
      "APPENDED\n",
      "APPENDED\n",
      "APPENDEDing angle for Person 6 exercise 3  \n",
      "APPENDED\n",
      "APPENDED\n",
      "APPENDEDing angle for Person 7 exercise 1  \n",
      "APPENDED\n",
      "APPENDED\n",
      "APPENDEDing angle for Person 7 exercise 2  \n",
      "APPENDED\n",
      "APPENDED\n",
      "APPENDEDing angle for Person 7 exercise 3  \n",
      "APPENDED\n",
      "APPENDED\n",
      "calculating angles finished\n"
     ]
    }
   ],
   "source": [
    "rotated_data = try_read_csv(OUTPUT_FOLDER + ROTATED_DATA_FILE)\n",
    "\n",
    "if not rotated_data.empty:\n",
    "    current_arcs = try_read_csv(OUTPUT_FOLDER + ARCS_CALCULATED_FILE)\n",
    "    new_rotated_data = get_dataframe_delta(current_arcs, rotated_data)\n",
    "    new_arcs = calculate_angles(new_rotated_data)\n",
    "    if not new_arcs.empty:\n",
    "        arcs = append_avoiding_duplicating(current_arcs, new_arcs)\n",
    "        arcs.to_csv(OUTPUT_FOLDER + ARCS_CALCULATED_FILE)\n",
    "    else:\n",
    "        arcs = current_arcs"
   ]
  },
  {
   "cell_type": "code",
   "execution_count": 96,
   "metadata": {},
   "outputs": [
    {
     "name": "stdout",
     "output_type": "stream",
     "text": [
      "922825\n",
      "[67 68 69 70 71 72 73 74 75 76 77 78 79 80 81 82 83 84 85]\n",
      "[1 2 3 4]\n",
      "['frameNum' 'jointName' 'x' 'y' 'z' 'orX' 'orY' 'orZ' 'orW' 'time'\n",
      " 'trackingId' 'trackState' 'pNum' 'eNum']\n"
     ]
    }
   ],
   "source": [
    "print(len(newly_added))\n",
    "print(combined.pNum.unique())\n",
    "print(combined.eNum.unique())\n",
    "print(combined.columns.values)\n",
    "\n",
    "#print(newly_added)"
   ]
  },
  {
   "cell_type": "code",
   "execution_count": 125,
   "metadata": {},
   "outputs": [
    {
     "name": "stdout",
     "output_type": "stream",
     "text": [
      "1336900\n",
      "[67 68 69 70 71 72 73 74 75 76 77 78 79 80 81 82 83 84 85  1  2  3  4  5  6\n",
      "  7]\n"
     ]
    }
   ],
   "source": [
    "print(len(cleaned))\n",
    "print(cleaned.pNum.unique())"
   ]
  },
  {
   "cell_type": "code",
   "execution_count": 108,
   "metadata": {},
   "outputs": [
    {
     "name": "stdout",
     "output_type": "stream",
     "text": [
      "[67 68 69 70 71 72 73 74 75 76 77 78 79 80 81 82 83 84]\n"
     ]
    }
   ],
   "source": [
    "newly_added = newly_added[newly_added[\"pNum\"] != 85]\n",
    "print(newly_added.pNum.unique())"
   ]
  },
  {
   "cell_type": "code",
   "execution_count": 221,
   "metadata": {},
   "outputs": [
    {
     "name": "stderr",
     "output_type": "stream",
     "text": [
      "/opt/jupyterhub/anaconda/lib/python3.6/site-packages/IPython/core/interactiveshell.py:2717: DtypeWarning: Columns (15) have mixed types. Specify dtype option on import or set low_memory=False.\n",
      "  interactivity=interactivity, compiler=compiler, result=result)\n"
     ]
    },
    {
     "name": "stdout",
     "output_type": "stream",
     "text": [
      "[1 3 4 5 6 7]\n",
      "415300\n",
      "414075\n",
      "197225\n",
      "196775\n",
      "6039\n",
      "      Unnamed: 0 Side         arc  arc_left  arc_right  eNum  frameNum  pNum\n",
      "0              0    l   10.957069       NaN        NaN     1     848.0     1\n",
      "1              1    l   11.880671       NaN        NaN     1     849.0     1\n",
      "2              2    l   14.815987       NaN        NaN     1     850.0     1\n",
      "3              3    l   22.065236       NaN        NaN     1     851.0     1\n",
      "4              4    l   28.623619       NaN        NaN     1     852.0     1\n",
      "5              5    l   37.494000       NaN        NaN     1     853.0     1\n",
      "6              6    l   46.538275       NaN        NaN     1     854.0     1\n",
      "7              7    l   55.748842       NaN        NaN     1     855.0     1\n",
      "8              8    l   64.504984       NaN        NaN     1     856.0     1\n",
      "9              9    l   74.351487       NaN        NaN     1     857.0     1\n",
      "10            10    l   83.444581       NaN        NaN     1     858.0     1\n",
      "11            11    l   92.095939       NaN        NaN     1     859.0     1\n",
      "12            12    l   98.738243       NaN        NaN     1     860.0     1\n",
      "13            13    l  106.810941       NaN        NaN     1     861.0     1\n",
      "14            14    l  112.453829       NaN        NaN     1     862.0     1\n",
      "15            15    l  118.348456       NaN        NaN     1     863.0     1\n",
      "16            16    l  123.721160       NaN        NaN     1     864.0     1\n",
      "17            17    l  128.652033       NaN        NaN     1     865.0     1\n",
      "18            18    l  134.353185       NaN        NaN     1     866.0     1\n",
      "19            19    l  138.383813       NaN        NaN     1     867.0     1\n",
      "20            20    l  141.669281       NaN        NaN     1     868.0     1\n",
      "21            21    l  145.430328       NaN        NaN     1     869.0     1\n",
      "22            22    l  148.411405       NaN        NaN     1     870.0     1\n",
      "23            23    l  150.719844       NaN        NaN     1     871.0     1\n",
      "24            24    l  152.957806       NaN        NaN     1     872.0     1\n",
      "25            25    l  158.634360       NaN        NaN     1     873.0     1\n",
      "26            26    l  167.799724       NaN        NaN     1     874.0     1\n",
      "27            27    l  169.722748       NaN        NaN     1     875.0     1\n",
      "28            28    l  171.943126       NaN        NaN     1     876.0     1\n",
      "29            29    l  174.257011       NaN        NaN     1     877.0     1\n",
      "...          ...  ...         ...       ...        ...   ...       ...   ...\n",
      "6009          42    r   86.048460       NaN        NaN     3     501.0     7\n",
      "6010          43    r   85.832680       NaN        NaN     3     502.0     7\n",
      "6011          44    r   85.575862       NaN        NaN     3     503.0     7\n",
      "6012          45    r   85.236264       NaN        NaN     3     504.0     7\n",
      "6013          46    r   85.025566       NaN        NaN     3     505.0     7\n",
      "6014          47    r   84.581785       NaN        NaN     3     506.0     7\n",
      "6015          48    r   83.819110       NaN        NaN     3     507.0     7\n",
      "6016          49    r   83.044307       NaN        NaN     3     508.0     7\n",
      "6017          50    r   81.756948       NaN        NaN     3     509.0     7\n",
      "6018          51    r   79.826580       NaN        NaN     3     510.0     7\n",
      "6019          52    r   77.614916       NaN        NaN     3     511.0     7\n",
      "6020          53    r   75.145847       NaN        NaN     3     512.0     7\n",
      "6021          54    r   71.598279       NaN        NaN     3     513.0     7\n",
      "6022          55    r   67.069193       NaN        NaN     3     514.0     7\n",
      "6023          56    r   62.225186       NaN        NaN     3     515.0     7\n",
      "6024          57    r   55.499758       NaN        NaN     3     516.0     7\n",
      "6025          58    r   51.640873       NaN        NaN     3     517.0     7\n",
      "6026          59    r   43.899965       NaN        NaN     3     518.0     7\n",
      "6027          60    r   37.977140       NaN        NaN     3     519.0     7\n",
      "6028          61    r   31.713156       NaN        NaN     3     520.0     7\n",
      "6029          62    r   27.138069       NaN        NaN     3     521.0     7\n",
      "6030          63    r   19.884674       NaN        NaN     3     522.0     7\n",
      "6031          64    r   15.930387       NaN        NaN     3     523.0     7\n",
      "6032          65    r   14.595684       NaN        NaN     3     524.0     7\n",
      "6033          66    r   15.297462       NaN        NaN     3     525.0     7\n",
      "6034          67    r    0.665289       NaN        NaN     3     526.0     7\n",
      "6035          68    r    7.699363       NaN        NaN     3     527.0     7\n",
      "6036          69    r    4.130213       NaN        NaN     3     528.0     7\n",
      "6037          70    r    2.452791       NaN        NaN     3     529.0     7\n",
      "6038          71    r    2.203516       NaN        NaN     3     530.0     7\n",
      "\n",
      "[6039 rows x 8 columns]\n"
     ]
    }
   ],
   "source": [
    "combined_test = pd.read_csv(OUTPUT_FOLDER + COMBINED_DATA_FILE)\n",
    "cleaned_test = pd.read_csv(OUTPUT_FOLDER + CLEANED_DATA_FILE)\n",
    "cut_sided_test = pd.read_csv(OUTPUT_FOLDER + CUT_SIDED_DATA_FILE)\n",
    "rotated_test = pd.read_csv(OUTPUT_FOLDER + ROTATED_DATA_FILE)\n",
    "arcs_test = pd.read_csv(OUTPUT_FOLDER + ARCS_CALCULATED_FILE)\n",
    "\n",
    "\n",
    "print(rotated.pNum.unique())\n",
    "\n",
    "print(len(combined_test))\n",
    "print(len(cleaned_test))\n",
    "print(len(cut_sided_test))\n",
    "print(len(rotated_test))\n",
    "print(len(arcs_test))\n",
    "\n",
    "print(arcs_test)"
   ]
  }
 ],
 "metadata": {
  "kernelspec": {
   "display_name": "Python 3",
   "language": "python",
   "name": "python3"
  },
  "language_info": {
   "codemirror_mode": {
    "name": "ipython",
    "version": 3
   },
   "file_extension": ".py",
   "mimetype": "text/x-python",
   "name": "python",
   "nbconvert_exporter": "python",
   "pygments_lexer": "ipython3",
   "version": "3.6.1"
  }
 },
 "nbformat": 4,
 "nbformat_minor": 2
}
