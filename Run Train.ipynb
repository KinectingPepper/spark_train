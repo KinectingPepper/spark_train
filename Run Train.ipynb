{
 "cells": [
  {
   "cell_type": "code",
   "execution_count": 271,
   "metadata": {},
   "outputs": [],
   "source": [
    "%run 'Code Train.ipynb'"
   ]
  },
  {
   "cell_type": "code",
   "execution_count": null,
   "metadata": {},
   "outputs": [
    {
     "name": "stdout",
     "output_type": "stream",
     "text": [
      "Combining data finished, persons added: [ 96  97  98  99 100 101 102 103 104 105 106 107  64  65  66  67  68  69\n",
      "  70  71  72  73  74  75  76  77  78  79  80  81  82  83  84  85   1   2\n",
      "   3   4   5   6   7   8   9  10  11  12  13  14  15  16  17  18  19  20\n",
      "  21  22  23  24  25  26  27  28  29  30  31  32  33  34  35  36  37  38\n",
      "  39  40  41  42  43  44  45  46  47  48  49  50  51  52  53  54  55  56\n",
      "  57  58  59  60  61  62  86  87  88  89  90  91  92  93  63  94  95]\n",
      "Cleaning finished, persons cleaned: [  1   2   3   4   5   6   7   8   9  10  11  12  13  14  15  16  17  18\n",
      "  19  20  21  22  23  24  25  26  27  28  29  30  31  32  33  34  35  36\n",
      "  37  38  39  40  41  42  43  44  45  46  47  48  49  50  51  52  53  54\n",
      "  55  56  57  58  59  60  61  62  63  64  65  66  67  68  69  70  71  72\n",
      "  73  74  75  76  77  78  79  80  81  82  83  84  85  86  87  88  89  90\n",
      "  91  92  93  94  95  96  97  98  99 100 101 102 103 104 105 106 107]\n"
     ]
    },
    {
     "name": "stderr",
     "output_type": "stream",
     "text": [
      "/opt/jupyterhub/anaconda/lib/python3.6/site-packages/IPython/core/interactiveshell.py:2881: DtypeWarning: Columns (3,4,5,6,7,8,9) have mixed types. Specify dtype option on import or set low_memory=False.\n",
      "  exec(code_obj, self.user_global_ns, self.user_ns)\n",
      "/opt/jupyterhub/anaconda/lib/python3.6/site-packages/numpy/lib/arraysetops.py:395: FutureWarning: elementwise comparison failed; returning scalar instead, but in the future will perform elementwise comparison\n",
      "  mask |= (ar1 == a)\n"
     ]
    },
    {
     "name": "stdout",
     "output_type": "stream",
     "text": [
      "more than one matching curve  \n",
      "EXCEPTION while cutting:  Person 53 exercise 3\n",
      "EXCEPTION while cutting:  Person 64 exercise 1\n",
      "EXCEPTION while cutting:  Person 64 exercise 2\n",
      "EXCEPTION while cutting:  Person 64 exercise 3\n",
      "EXCEPTION while cutting:  Person 65 exercise 1\n",
      "EXCEPTION while cutting:  Person 65 exercise 2\n",
      "EXCEPTION while cutting:  Person 65 exercise 3\n",
      "EXCEPTION while cutting:  Person 66 exercise 1\n",
      "EXCEPTION while cutting:  Person 66 exercise 2\n",
      "EXCEPTION while cutting:  Person 66 exercise 3\n",
      "EXCEPTION while cutting:  Person 68 exercise 1\n",
      "EXCEPTION while cutting:  Person 68 exercise 2\n",
      "EXCEPTION while cutting:  Person 68 exercise 3\n",
      "EXCEPTION while cutting:  Person 69 exercise 1\n",
      "EXCEPTION while cutting:  Person 69 exercise 2\n",
      "EXCEPTION while cutting:  Person 69 exercise 3\n",
      "EXCEPTION while cutting:  Person 70 exercise 1\n",
      "EXCEPTION while cutting:  Person 70 exercise 2\n",
      "EXCEPTION while cutting:  Person 70 exercise 3\n",
      "EXCEPTION while cutting:  Person 71 exercise 1\n",
      "EXCEPTION while cutting:  Person 71 exercise 2\n",
      "EXCEPTION while cutting:  Person 71 exercise 3\n",
      "EXCEPTION while cutting:  Person 72 exercise 1\n",
      "EXCEPTION while cutting:  Person 72 exercise 2\n",
      "EXCEPTION while cutting:  Person 72 exercise 3\n",
      "EXCEPTION while cutting:  Person 73 exercise 1\n",
      "EXCEPTION while cutting:  Person 73 exercise 2\n",
      "EXCEPTION while cutting:  Person 73 exercise 3\n",
      "EXCEPTION while cutting:  Person 74 exercise 1\n",
      "EXCEPTION while cutting:  Person 74 exercise 2\n",
      "EXCEPTION while cutting:  Person 74 exercise 3\n",
      "EXCEPTION while cutting:  Person 75 exercise 1\n",
      "EXCEPTION while cutting:  Person 75 exercise 2\n",
      "EXCEPTION while cutting:  Person 75 exercise 3\n",
      "EXCEPTION while cutting:  Person 76 exercise 1\n",
      "EXCEPTION while cutting:  Person 76 exercise 2\n",
      "EXCEPTION while cutting:  Person 76 exercise 3\n",
      "EXCEPTION while cutting:  Person 77 exercise 1\n",
      "EXCEPTION while cutting:  Person 77 exercise 2\n",
      "EXCEPTION while cutting:  Person 77 exercise 3\n",
      "EXCEPTION while cutting:  Person 78 exercise 1\n",
      "EXCEPTION while cutting:  Person 78 exercise 2\n",
      "EXCEPTION while cutting:  Person 78 exercise 3\n",
      "EXCEPTION while cutting:  Person 79 exercise 1\n",
      "EXCEPTION while cutting:  Person 79 exercise 2\n",
      "EXCEPTION while cutting:  Person 79 exercise 3\n",
      "EXCEPTION while cutting:  Person 80 exercise 1\n",
      "EXCEPTION while cutting:  Person 80 exercise 2\n",
      "EXCEPTION while cutting:  Person 80 exercise 3\n",
      "EXCEPTION while cutting:  Person 81 exercise 1\n",
      "EXCEPTION while cutting:  Person 81 exercise 2\n",
      "EXCEPTION while cutting:  Person 81 exercise 3\n",
      "EXCEPTION while cutting:  Person 82 exercise 1\n",
      "EXCEPTION while cutting:  Person 82 exercise 2\n",
      "EXCEPTION while cutting:  Person 82 exercise 3\n",
      "EXCEPTION while cutting:  Person 83 exercise 1\n",
      "EXCEPTION while cutting:  Person 83 exercise 2\n",
      "EXCEPTION while cutting:  Person 83 exercise 3\n",
      "EXCEPTION while cutting:  Person 84 exercise 1\n",
      "EXCEPTION while cutting:  Person 84 exercise 2\n",
      "EXCEPTION while cutting:  Person 84 exercise 3\n",
      "EXCEPTION while cutting:  Person 85 exercise 1\n",
      "EXCEPTION while cutting:  Person 85 exercise 2\n",
      "EXCEPTION while cutting:  Person 85 exercise 3\n",
      "EXCEPTION while cutting:  Person 87 exercise 2\n",
      "more than one matching curve  \n",
      "EXCEPTION while cutting:  Person 88 exercise 2\n",
      "['error start and end full file']\n",
      "EXCEPTION while cutting:  Person 89 exercise 2\n",
      "EXCEPTION while cutting:  Person 89 exercise 3\n",
      "['error start and end full file']\n",
      "['error start and end full file']\n",
      "EXCEPTION while cutting:  Person 90 exercise 2\n",
      "EXCEPTION while cutting:  Person 90 exercise 3\n",
      "EXCEPTION while cutting:  Person 91 exercise 3\n",
      "['error start and end full file']\n",
      "EXCEPTION while cutting:  Person 92 exercise 2\n",
      "EXCEPTION while cutting:  Person 92 exercise 3\n",
      "EXCEPTION while cutting:  Person 94 exercise 1\n",
      "EXCEPTION while cutting:  Person 94 exercise 2\n",
      "EXCEPTION while cutting:  Person 94 exercise 3\n",
      "['error start and end full file']\n",
      "['error start and end full file']\n",
      "['error start and end full file']\n",
      "['error start and end full file']\n",
      "['error start and end full file']\n",
      "['error start and end full file']\n",
      "['error start and end full file']\n",
      "['error start and end full file']\n",
      "['error start and end full file']\n",
      "['error start and end full file']\n",
      "['error start and end full file']\n",
      "['error start and end full file']\n",
      "['error start and end full file']\n",
      "['error start and end full file']\n",
      "['error start and end full file']\n",
      "['error start and end full file']\n",
      "['error start and end full file']\n",
      "['error start and end full file']\n",
      "['error start and end full file']\n",
      "['error start and end full file']\n",
      "['error start and end full file']\n",
      "more than one matching curve3  \n",
      "EXCEPTION while cutting:  Person 107 exercise 3\n",
      "Cutting frames finished, person cut and sided: [  1   3   4   5   6   7   8   9  10  11  12  14  15  16  17  18  19  20\n",
      "  21  22  23  24  25  26  27  28  29  30  31  32  33  34  35  36  37  38\n",
      "  39  41  42  43  44  45  46  47  48  49  50  51  52  53  54  55  56  57\n",
      "  58  59  60  61  62  87  88  89  90  91  92  95  96  97  98  99 100 101\n",
      " 102 103 104 106 107]\n",
      "Rotating Person 14 exercise 2  \r"
     ]
    }
   ],
   "source": [
    "run()"
   ]
  },
  {
   "cell_type": "code",
   "execution_count": null,
   "metadata": {},
   "outputs": [],
   "source": [
    "current_combined = try_read_csv(OUTPUT_FOLDER + COMBINED_DATA_FILE)\n",
    "combined, newly_added = combine_data(INPUT_FOLDER, current_combined)\n",
    "if(len(combined) > len(current_combined)):\n",
    "    combined.to_csv(OUTPUT_FOLDER + COMBINED_DATA_FILE)"
   ]
  },
  {
   "cell_type": "code",
   "execution_count": null,
   "metadata": {},
   "outputs": [],
   "source": [
    "if not newly_added.empty:\n",
    "    current_cleaned = try_read_csv(OUTPUT_FOLDER + CLEANED_DATA_FILE)\n",
    "    new_cleaned = clean_data(newly_added)\n",
    "    cleaned = append_avoiding_duplicating(current_cleaned, new_cleaned)\n",
    "    cleaned.to_csv(OUTPUT_FOLDER + CLEANED_DATA_FILE)"
   ]
  },
  {
   "cell_type": "code",
   "execution_count": null,
   "metadata": {},
   "outputs": [],
   "source": [
    "cleaned_data = try_read_csv(OUTPUT_FOLDER + CLEANED_DATA_FILE, decimal=',')\n",
    "\n",
    "if not cleaned_data.empty:\n",
    "    current_cut_sided = try_read_csv(OUTPUT_FOLDER + CUT_SIDED_DATA_FILE, decimal=',')\n",
    "    new_cleaned_data = get_dataframe_delta(current_cut_sided, cleaned_data)\n",
    "    new_cut_sided = cut_frames_add_moving_sides(new_cleaned_data)\n",
    "    if not new_cut_sided.empty:\n",
    "        cut_sided = append_avoiding_duplicating(current_cut_sided, new_cut_sided)\n",
    "        cut_sided.to_csv(OUTPUT_FOLDER + CUT_SIDED_DATA_FILE)\n",
    "    else:\n",
    "        cut_sided = current_cut_sided"
   ]
  },
  {
   "cell_type": "code",
   "execution_count": null,
   "metadata": {},
   "outputs": [],
   "source": [
    "cut_sided_data = try_read_csv(OUTPUT_FOLDER + CUT_SIDED_DATA_FILE)\n",
    "\n",
    "if not cut_sided_data.empty:\n",
    "    current_rotated = try_read_csv(OUTPUT_FOLDER + ROTATED_DATA_FILE)\n",
    "    new_cut_sided_data = get_dataframe_delta(current_rotated, cut_sided_data)\n",
    "    new_rotated = rotate_data(new_cut_sided_data)\n",
    "    if not new_rotated.empty:\n",
    "        rotated = append_avoiding_duplicating(current_rotated, new_rotated)\n",
    "        rotated.to_csv(OUTPUT_FOLDER + ROTATED_DATA_FILE)\n",
    "    else:\n",
    "        rotated = current_rotated"
   ]
  },
  {
   "cell_type": "code",
   "execution_count": null,
   "metadata": {},
   "outputs": [],
   "source": [
    "rotated_data = try_read_csv(OUTPUT_FOLDER + ROTATED_DATA_FILE)\n",
    "\n",
    "if not rotated_data.empty:\n",
    "    current_arcs = try_read_csv(OUTPUT_FOLDER + ARCS_CALCULATED_FILE)\n",
    "    new_rotated_data = get_dataframe_delta(current_arcs, rotated_data)\n",
    "    new_arcs = calculate_angles(new_rotated_data)\n",
    "    if not new_arcs.empty:\n",
    "        arcs = append_avoiding_duplicating(current_arcs, new_arcs)\n",
    "        arcs.to_csv(OUTPUT_FOLDER + ARCS_CALCULATED_FILE)\n",
    "    else:\n",
    "        arcs = current_arcs"
   ]
  },
  {
   "cell_type": "code",
   "execution_count": null,
   "metadata": {},
   "outputs": [],
   "source": []
  },
  {
   "cell_type": "code",
   "execution_count": null,
   "metadata": {},
   "outputs": [],
   "source": [
    "combined_test = pd.read_csv(OUTPUT_FOLDER + COMBINED_DATA_FILE)\n",
    "cleaned_test = pd.read_csv(OUTPUT_FOLDER + CLEANED_DATA_FILE)\n",
    "cut_sided_test = pd.read_csv(OUTPUT_FOLDER + CUT_SIDED_DATA_FILE)\n",
    "rotated_test = pd.read_csv(OUTPUT_FOLDER + ROTATED_DATA_FILE)\n",
    "arcs_test = pd.read_csv(OUTPUT_FOLDER + ARCS_CALCULATED_FILE)\n",
    "\n",
    "print(len(combined_test))\n",
    "print(combined_test.pNum.unique())\n",
    "\n",
    "print(len(cleaned_test))\n",
    "print(cleaned_test.pNum.unique())\n",
    "\n",
    "print(len(cut_sided_test))\n",
    "print(cut_sided_test.pNum.unique())\n",
    "\n",
    "print(len(rotated_test))\n",
    "print(rotated_test.pNum.unique())\n",
    "\n",
    "print(len(arcs_test))\n",
    "print(arcs_test.pNum.unique())"
   ]
  }
 ],
 "metadata": {
  "kernelspec": {
   "display_name": "Python 3",
   "language": "python",
   "name": "python3"
  },
  "language_info": {
   "codemirror_mode": {
    "name": "ipython",
    "version": 3
   },
   "file_extension": ".py",
   "mimetype": "text/x-python",
   "name": "python",
   "nbconvert_exporter": "python",
   "pygments_lexer": "ipython3",
   "version": "3.6.1"
  }
 },
 "nbformat": 4,
 "nbformat_minor": 2
}
